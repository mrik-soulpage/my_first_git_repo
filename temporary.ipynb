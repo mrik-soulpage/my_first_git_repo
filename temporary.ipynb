{
 "cells": [
  {
   "cell_type": "code",
   "execution_count": null,
   "metadata": {},
   "outputs": [],
   "source": [
    "import math\n",
    "\n",
    "def mul(a,b):\n",
    "    return a*b\n",
    "\n",
    "c = mul(5, 10)\n",
    "print(c)"
   ]
  }
 ],
 "metadata": {
  "language_info": {
   "name": "python"
  },
  "orig_nbformat": 4
 },
 "nbformat": 4,
 "nbformat_minor": 2
}
